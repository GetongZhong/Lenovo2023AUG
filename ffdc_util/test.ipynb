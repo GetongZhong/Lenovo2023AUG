{
 "cells": [
  {
   "cell_type": "code",
   "execution_count": 1,
   "metadata": {},
   "outputs": [
    {
     "name": "stdout",
     "output_type": "stream",
     "text": [
      "c:\\Users\\zhonggt1\\Desktop\\UEFI\\UEFI_Log\\7D2WCTO1WW_J302RPX4_xcc_110101-001717.tzz uncompress dir is: C:\\Users\\zhonggt1\\AppData\\Local\\Temp\\tmpc4iicx23_7D2WCTO1WW_J302RPX4_xcc_110101-001717\n",
      "[32, 33, 34, 35, 36, 37, 38, 39, 40, 41, 42, 43, 44, 45, 46, 47, 48, 49, 50, 51, 52, 53, 54, 55, 56, 57, 58, 59, 60, 61, 62, 63, 64, 65, 66, 67, 68, 69, 70, 71, 72, 73, 74, 75, 76, 77, 78, 79, 80, 81]\n",
      "the first uefi log index is : 32\n",
      "[32, 33, 34, 35, 36, 37, 38, 39, 40, 41, 42, 43, 44, 45, 46, 47, 48, 49, 50, 51, 52, 53, 54, 55, 56, 57, 58, 59, 60, 61, 62, 63, 64, 65, 66, 67, 68, 69, 70, 71, 72, 73, 74, 75, 76, 77, 78, 79, 80, 81]\n"
     ]
    },
    {
     "name": "stderr",
     "output_type": "stream",
     "text": [
      "INFO:utils.util:Pre-process ffdc uefi log file.\n",
      "INFO:utils.util:7D2WCTO1WW_J302RPX4_xcc_110101-001717.tzz, the uefi_file is: C:\\Users\\zhonggt1\\AppData\\Local\\Temp\\tmpc4iicx23_7D2WCTO1WW_J302RPX4_xcc_110101-001717\\all.log_pre\n"
     ]
    },
    {
     "name": "stdout",
     "output_type": "stream",
     "text": [
      "merged file: C:\\Users\\zhonggt1\\AppData\\Local\\Temp\\tmpc4iicx23_7D2WCTO1WW_J302RPX4_xcc_110101-001717\\all.log\n",
      "100000\n",
      "200000\n",
      "300000\n",
      "400000\n",
      "500000\n",
      "600000\n",
      "700000\n",
      "800000\n",
      "900000\n",
      "1000000\n",
      "1100000\n",
      "1200000\n"
     ]
    },
    {
     "name": "stderr",
     "output_type": "stream",
     "text": [
      "INFO:utils.util:second Separate uefi by single boot.\n"
     ]
    },
    {
     "name": "stdout",
     "output_type": "stream",
     "text": [
      "100000\n",
      "200000\n",
      "300000\n",
      "400000\n",
      "500000\n",
      "600000\n",
      "700000\n",
      "800000\n"
     ]
    }
   ],
   "source": [
    "import os\n",
    "from ffdc_util.ffdc2csv.profiler import Profiler \n",
    "\n",
    "profiler_sinstance= Profiler(os.getcwd())\n",
    "filepath = profiler_sinstance.get_filepath()\n",
    "profiler_sinstance.run_profiler(filepath)\n"
   ]
  },
  {
   "cell_type": "code",
   "execution_count": 1,
   "metadata": {},
   "outputs": [
    {
     "data": {
      "text/plain": [
       "'c:\\\\Users\\\\zhonggt1\\\\Desktop\\\\UEFI\\\\UEFI_Log'"
      ]
     },
     "execution_count": 1,
     "metadata": {},
     "output_type": "execute_result"
    }
   ],
   "source": [
    "\n",
    "os.getcwd()"
   ]
  }
 ],
 "metadata": {
  "kernelspec": {
   "display_name": "Python 3",
   "language": "python",
   "name": "python3"
  },
  "language_info": {
   "codemirror_mode": {
    "name": "ipython",
    "version": 3
   },
   "file_extension": ".py",
   "mimetype": "text/x-python",
   "name": "python",
   "nbconvert_exporter": "python",
   "pygments_lexer": "ipython3",
   "version": "3.11.4"
  },
  "orig_nbformat": 4
 },
 "nbformat": 4,
 "nbformat_minor": 2
}
